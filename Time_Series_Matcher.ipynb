{
  "nbformat": 4,
  "nbformat_minor": 0,
  "metadata": {
    "colab": {
      "name": "Time-Series-Matcher.ipynb",
      "provenance": [],
      "collapsed_sections": [],
      "authorship_tag": "ABX9TyPOdks+oJ9r9LhUeRovM3pU",
      "include_colab_link": true
    },
    "kernelspec": {
      "name": "python3",
      "display_name": "Python 3"
    }
  },
  "cells": [
    {
      "cell_type": "markdown",
      "metadata": {
        "id": "view-in-github",
        "colab_type": "text"
      },
      "source": [
        "<a href=\"https://colab.research.google.com/github/gaborvecsei/Stocks-Pattern-Analyzer/blob/master/Time_Series_Matcher.ipynb\" target=\"_parent\"><img src=\"https://colab.research.google.com/assets/colab-badge.svg\" alt=\"Open In Colab\"/></a>"
      ]
    },
    {
      "cell_type": "markdown",
      "metadata": {
        "id": "mYPPnmZ6zVFn"
      },
      "source": [
        "Flow:\r\n",
        "1. Select a stock ticker\r\n",
        "2. Select data range\r\n",
        "3. Select tickers which we want to include in the similarity analysis\r\n",
        "4. Calculate similarities (selected anchor period to similar length periods in the other tickers)\r\n",
        "    - Store raw similarities and also some aggregated measure for every ticker\r\n",
        "    - Display top-N (most similar) tickers with the values\r\n",
        "5. Display top matches on different charts with past and future values applications\r\n",
        "6. Display top-N matches normalized on a single chart with past and future values\r\n",
        "\r\n",
        "\r\n",
        "Idea list:\r\n",
        "- Multiple similarity measures\r\n",
        "    - Eucledian distance\r\n",
        "    - Manhattan distance\r\n",
        "    - Day-to-day increase or decrease (binary classification)\r\n",
        "    - Selected time period is bearish or bullish\r\n",
        "    - Gain/Loss over the period\r\n",
        "    - DTW\r\n",
        "- Indicators on sell/buy\r\n",
        "    - Based on multiple stock pattern similarities, should be buy or sell\r\n",
        "    - Predict the gain if I buy today on close value and sell in 1, 7, 14, ... days\r\n",
        "    - \"64% of the stocks were bearish after this pattern\" OR \"Min/Max/Average/median gain after this pattern\"\r\n",
        "\r\n",
        "\r\n",
        "Interesting links:\r\n",
        "- https://www.intechopen.com/books/advances-in-data-mining-knowledge-discovery-and-applications/similarity-measures-and-dimensionality-reduction-techniques-for-time-series-data-mining"
      ]
    },
    {
      "cell_type": "code",
      "metadata": {
        "id": "gawpv_dJi8F0"
      },
      "source": [
        "!pip install yfinance stumpy &> /dev/null"
      ],
      "execution_count": 1,
      "outputs": []
    },
    {
      "cell_type": "code",
      "metadata": {
        "id": "Wel82votifTJ"
      },
      "source": [
        "import numpy as np\r\n",
        "import pandas as pd\r\n",
        "from collections import OrderedDict\r\n",
        "\r\n",
        "from sklearn import metrics\r\n",
        "import yfinance\r\n",
        "import stumpy\r\n",
        "\r\n",
        "import matplotlib.pyplot as plt\r\n",
        "%matplotlib inline"
      ],
      "execution_count": 146,
      "outputs": []
    },
    {
      "cell_type": "code",
      "metadata": {
        "id": "aUFkGrdKlNKm"
      },
      "source": [
        "stock_tickers = [\"AAPL\", \"MSFT\", \"TSLA\", \"BABA\"]"
      ],
      "execution_count": 3,
      "outputs": []
    },
    {
      "cell_type": "code",
      "metadata": {
        "id": "XW1AA5UWl62I"
      },
      "source": [
        "stock_close_values = dict()\r\n",
        "\r\n",
        "for t in stock_tickers:\r\n",
        "    close_vals = yfinance.Ticker(t).history(period=\"max\", interval=\"1d\")[\"Close\"].values\r\n",
        "    stock_close_values[t] = close_vals"
      ],
      "execution_count": 4,
      "outputs": []
    },
    {
      "cell_type": "code",
      "metadata": {
        "colab": {
          "base_uri": "https://localhost:8080/"
        },
        "id": "lYiLho3Xmovq",
        "outputId": "ffa96ab6-f082-400b-b320-99c1a1998056"
      },
      "source": [
        "# Number of values (days) in the data\r\n",
        "{t:x.shape[0] for t, x in stock_close_values.items()}"
      ],
      "execution_count": 5,
      "outputs": [
        {
          "output_type": "execute_result",
          "data": {
            "text/plain": [
              "{'AAPL': 10109, 'BABA': 1593, 'MSFT': 8784, 'TSLA': 2657}"
            ]
          },
          "metadata": {
            "tags": []
          },
          "execution_count": 5
        }
      ]
    },
    {
      "cell_type": "code",
      "metadata": {
        "id": "86DHG_EnnXfh"
      },
      "source": [
        "def normalize(x):\r\n",
        "    return (x - np.min(x))/np.ptp(x)"
      ],
      "execution_count": 6,
      "outputs": []
    },
    {
      "cell_type": "markdown",
      "metadata": {
        "id": "tANdrvsGnzYx"
      },
      "source": [
        "------------------------"
      ]
    },
    {
      "cell_type": "code",
      "metadata": {
        "id": "5Srx9qEtqZ0I"
      },
      "source": [
        "ANCHOR_STOCK_TICKER = \"TSLA\"\r\n",
        "WIN = 14"
      ],
      "execution_count": 7,
      "outputs": []
    },
    {
      "cell_type": "code",
      "metadata": {
        "id": "97pcOs0xmh8B"
      },
      "source": [
        "anchor_values = stock_close_values[ANCHOR_STOCK_TICKER]"
      ],
      "execution_count": 8,
      "outputs": []
    },
    {
      "cell_type": "code",
      "metadata": {
        "id": "WwSxHIU2liy3"
      },
      "source": [
        "anchor_series_start = len(anchor_values)-WIN-28\r\n",
        "anchor_series_end = anchor_series_start + WIN\r\n",
        "anchor_series = anchor_values[anchor_series_start:anchor_series_end]\r\n",
        "anchor_series_norm = normalize(anchor_series)"
      ],
      "execution_count": 9,
      "outputs": []
    },
    {
      "cell_type": "code",
      "metadata": {
        "id": "lLnOf24SlxjP"
      },
      "source": [
        "window_len = len(anchor_series)\r\n",
        "\r\n",
        "similarities_dict = dict()\r\n",
        "\r\n",
        "for t, v in stock_close_values.items():\r\n",
        "    sims = []\r\n",
        "    subseries_indexes = []\r\n",
        "\r\n",
        "    for i in range(0, len(v)-window_len, window_len):\r\n",
        "        s = normalize(v[i:i+window_len])\r\n",
        "        subseries_indexes.append((i, i+window_len))\r\n",
        "\r\n",
        "        sim = sum(abs(anchor_series_norm - s))\r\n",
        "        sims.append(sim)\r\n",
        "    \r\n",
        "    similarities_dict[t] = {\"similarities\":sims, \"indices\":subseries_indexes}"
      ],
      "execution_count": 10,
      "outputs": []
    },
    {
      "cell_type": "code",
      "metadata": {
        "colab": {
          "base_uri": "https://localhost:8080/"
        },
        "id": "cFsCS0GGrAT_",
        "outputId": "b2616f01-eea3-4bc1-f53d-ad0d9980b511"
      },
      "source": [
        "for t in similarities_dict.keys():\r\n",
        "    vals = similarities_dict[t][\"similarities\"]\r\n",
        "    top_3 = np.argsort(vals)[:3]\r\n",
        "    top_3_with_scores = {a:similarities_dict[t][\"similarities\"][a] for a in top_3}\r\n",
        "\r\n",
        "    print(f\"{t} --> {top_3_with_scores}\")"
      ],
      "execution_count": 11,
      "outputs": [
        {
          "output_type": "stream",
          "text": [
            "AAPL --> {515: 0.8762012814595693, 583: 1.0730331321744075, 604: 1.2203225688709174}\n",
            "MSFT --> {488: 0.9839884647242827, 560: 1.0584525452098217, 88: 1.0714698592505183}\n",
            "TSLA --> {165: 1.2830253363660515, 71: 1.3902122882951473, 87: 1.513079219343398}\n",
            "BABA --> {21: 1.3077816215985236, 41: 1.4099237759713912, 78: 1.5714609384604914}\n"
          ],
          "name": "stdout"
        }
      ]
    },
    {
      "cell_type": "code",
      "metadata": {
        "id": "_4JI4rtusYJX"
      },
      "source": [
        "CHOSEN_CLOSEST_STOCK = \"AAPL\"\r\n",
        "chosen_ticker_values = stock_close_values[CHOSEN_CLOSEST_STOCK]\r\n",
        "chosen_ticker_indices = similarities_dict[CHOSEN_CLOSEST_STOCK][\"indices\"]\r\n",
        "chosen_ticker_similarities = similarities_dict[CHOSEN_CLOSEST_STOCK][\"similarities\"]"
      ],
      "execution_count": 12,
      "outputs": []
    },
    {
      "cell_type": "code",
      "metadata": {
        "id": "WLnLa04BtK_N"
      },
      "source": [
        "closest_series_indexes = chosen_ticker_indices[np.argmin(chosen_ticker_similarities)]"
      ],
      "execution_count": 13,
      "outputs": []
    },
    {
      "cell_type": "code",
      "metadata": {
        "id": "XzsrK7APo9Rn"
      },
      "source": [
        "closest_series_start, closest_series_end = closest_series_indexes\r\n",
        "closest_series = chosen_ticker_values[closest_series_start:closest_series_end]\r\n",
        "closest_series_norm = normalize(closest_series)"
      ],
      "execution_count": 14,
      "outputs": []
    },
    {
      "cell_type": "code",
      "metadata": {
        "colab": {
          "base_uri": "https://localhost:8080/",
          "height": 265
        },
        "id": "GiS5euT-pwZk",
        "outputId": "b470732b-a90f-4e2a-f563-a18dbdee716d"
      },
      "source": [
        "plt.plot(range(0, len(anchor_series_norm)), anchor_series_norm)\r\n",
        "plt.plot(range(0, len(closest_series_norm)), closest_series_norm);"
      ],
      "execution_count": 15,
      "outputs": [
        {
          "output_type": "display_data",
          "data": {
            "image/png": "[encoded data removed]",
            "text/plain": [
              "<Figure size 432x288 with 1 Axes>"
            ]
          },
          "metadata": {
            "tags": [],
            "needs_background": "light"
          }
        }
      ]
    },
    {
      "cell_type": "code",
      "metadata": {
        "id": "TqJkIuzstXxy"
      },
      "source": [
        "FUTURE_WIN = 28\r\n",
        "PAST_WIN = 28"
      ],
      "execution_count": 16,
      "outputs": []
    },
    {
      "cell_type": "code",
      "metadata": {
        "colab": {
          "base_uri": "https://localhost:8080/",
          "height": 281
        },
        "id": "ObOjnfP9sEXq",
        "outputId": "10d98c79-7d01-4206-d0ca-fe6303418f3a"
      },
      "source": [
        "fig, axs = plt.subplots(1, 2, figsize=(14, 4))\r\n",
        "\r\n",
        "indices_anchor = np.arange(anchor_series_start, anchor_series_end, 1)\r\n",
        "indices_anchor_future = np.arange(anchor_series_end-1, anchor_series_end+FUTURE_WIN, 1)\r\n",
        "anchor_future = anchor_values[anchor_series_end-1:anchor_series_end+FUTURE_WIN]\r\n",
        "indices_anchor_past = np.arange(anchor_series_start-PAST_WIN, anchor_series_start+1, 1)\r\n",
        "anchor_past = anchor_values[anchor_series_start-PAST_WIN:anchor_series_start+1]\r\n",
        "\r\n",
        "axs[0].plot(indices_anchor, anchor_series, color=\"r\")\r\n",
        "axs[0].plot(indices_anchor_future[:len(anchor_future)], anchor_future, color=\"g\")\r\n",
        "axs[0].plot(indices_anchor_past, anchor_past, color=\"g\")\r\n",
        "axs[0].set_title(\"Anchor series\")\r\n",
        "\r\n",
        "indices_closest = np.arange(closest_series_start, closest_series_end, 1)\r\n",
        "indices_closest_future = np.arange(closest_series_end-1, closest_series_end+FUTURE_WIN, 1)\r\n",
        "closest_future = chosen_ticker_values[closest_series_end-1:closest_series_end+FUTURE_WIN]\r\n",
        "indices_closest_past = np.arange(closest_series_start-PAST_WIN, closest_series_start+1, 1)\r\n",
        "closest_past = chosen_ticker_values[closest_series_start-PAST_WIN:closest_series_start+1]\r\n",
        "\r\n",
        "axs[1].plot(indices_closest, closest_series, color=\"r\")\r\n",
        "axs[1].plot(indices_closest_future, closest_future, color=\"g\")\r\n",
        "axs[1].plot(indices_closest_past, closest_past, color=\"g\")\r\n",
        "axs[1].set_title(\"Closest series\");"
      ],
      "execution_count": 17,
      "outputs": [
        {
          "output_type": "display_data",
          "data": {
            "image/png": "[encoded data removed]",
            "text/plain": [
              "<Figure size 1008x288 with 2 Axes>"
            ]
          },
          "metadata": {
            "tags": [],
            "needs_background": "light"
          }
        }
      ]
    },
    {
      "cell_type": "code",
      "metadata": {
        "id": "O3ljEcoWtQfU",
        "colab": {
          "base_uri": "https://localhost:8080/",
          "height": 281
        },
        "outputId": "71683170-7312-48f8-dff6-b2ebaa411e23"
      },
      "source": [
        "fig, ax = plt.subplots(1, 1, figsize=(12, 4))\r\n",
        "ax.plot(normalize(anchor_values[anchor_series_start-PAST_WIN:anchor_series_end+FUTURE_WIN]), label=\"anchor\")\r\n",
        "ax.plot(normalize(chosen_ticker_values[closest_series_start-PAST_WIN:closest_series_end+FUTURE_WIN]), label=\"closest\")\r\n",
        "ax.axvline(x=PAST_WIN, color=\"r\", linestyle=\"--\")\r\n",
        "ax.axvline(x=PAST_WIN+WIN, color=\"r\", linestyle=\"--\")\r\n",
        "ax.set_title(\"Normalized series with 'past' and 'future'\")\r\n",
        "ax.legend();"
      ],
      "execution_count": 18,
      "outputs": [
        {
          "output_type": "display_data",
          "data": {
            "image/png": "[encoded data removed]",
            "text/plain": [
              "<Figure size 864x288 with 1 Axes>"
            ]
          },
          "metadata": {
            "tags": [],
            "needs_background": "light"
          }
        }
      ]
    },
    {
      "cell_type": "markdown",
      "metadata": {
        "id": "Ee4cmWbPsjlR"
      },
      "source": [
        "-------------------------"
      ]
    },
    {
      "cell_type": "code",
      "metadata": {
        "id": "xTUcb6IX8tWS"
      },
      "source": [
        "class TickerHelper:\r\n",
        "    def __init__(self, ticker:str):\r\n",
        "        self.name = ticker\r\n",
        "\r\n",
        "        self._data = yfinance.Ticker(self.name).history(period=\"max\", interval=\"1d\")\r\n",
        "\r\n",
        "        self.dates = self._data.index\r\n",
        "        self.close_vals = self._data[\"Close\"].values.astype(np.float32)\r\n",
        "\r\n",
        "    def get_windows(self, win_size:int):\r\n",
        "        stock_windows = []\r\n",
        "        for i in range(0, len(self) - win_size, win_size):\r\n",
        "            stock_windows.append(StockWindow(self, i, i+win_size))\r\n",
        "        return stock_windows\r\n",
        "\r\n",
        "    def __len__(self):\r\n",
        "        return len(self.close_vals)"
      ],
      "execution_count": 87,
      "outputs": []
    },
    {
      "cell_type": "code",
      "metadata": {
        "id": "TeIZHQp79h4R"
      },
      "source": [
        "class StockWindow:\r\n",
        "    def __init__(self, ticker:TickerHelper, start_index:int=None, end_index:int=None):\r\n",
        "        self.ticker = ticker\r\n",
        "        self.start_index = start_index\r\n",
        "        self.end_index = end_index\r\n",
        "\r\n",
        "    @property\r\n",
        "    def values(self):\r\n",
        "        return self.ticker.close_vals[self.start_index:self.end_index]\r\n",
        "\r\n",
        "    def future_window(self, win_size:int):\r\n",
        "        # TODO: what if there is no future?\r\n",
        "        return StockWindow(self.ticker, self.end_index, self.end_index+win_size)\r\n",
        "\r\n",
        "    def past_values(self, win_size:int):\r\n",
        "        # TODO: what if there is no past?\r\n",
        "        return StockWindow(self.ticker, self.start_index-win_size, self.start_index)\r\n",
        "\r\n",
        "    @property\r\n",
        "    def norm_values(self):\r\n",
        "        return normalize(self.values)\r\n",
        "\r\n",
        "    @property\r\n",
        "    def dates(self):\r\n",
        "        return self.ticker.dates[self.start_index:self.end_index]\r\n",
        "\r\n",
        "    def __len__(self):\r\n",
        "        return self.end_index - self.start_index"
      ],
      "execution_count": 333,
      "outputs": []
    },
    {
      "cell_type": "code",
      "metadata": {
        "id": "_jEipsiIQ_lR"
      },
      "source": [
        "class DistanceEntry:\r\n",
        "    def __init__(self, stock_window:StockWindow, window_index:int, distance:float):\r\n",
        "        self.window_index = window_index\r\n",
        "        self.distance = distance\r\n",
        "        self.stock_window = stock_window\r\n",
        "\r\n",
        "    def __repr__(self):\r\n",
        "        return f\"window_index: {self.window_index}, distance: {self.distance}\""
      ],
      "execution_count": 334,
      "outputs": []
    },
    {
      "cell_type": "code",
      "metadata": {
        "id": "bm5tGHvpCXaY"
      },
      "source": [
        "class Distance:\r\n",
        "    def __init__(self, anchor:StockWindow, other_tickers:list):\r\n",
        "        self.anchor = anchor\r\n",
        "        self.other_tickers = other_tickers\r\n",
        "\r\n",
        "        self.distance_dict = dict()\r\n",
        "\r\n",
        "    @staticmethod\r\n",
        "    def similarity_metric(anchor_vals, other_vals):\r\n",
        "        assert len(anchor_vals) == len(other_vals), \"Length of series should be the same\"\r\n",
        "        return np.sum(np.abs(anchor_vals - other_vals))\r\n",
        "\r\n",
        "    def compute_distance(self):\r\n",
        "        self.distance_dict = {}\r\n",
        "\r\n",
        "        for ticker in self.other_tickers:\r\n",
        "            self.distance_dict[ticker.name] = []\r\n",
        "\r\n",
        "            for window in ticker.get_windows(win_size=len(self.anchor)):\r\n",
        "                distance_value = self.similarity_metric(self.anchor.norm_values, window.norm_values)\r\n",
        "                self.distance_dict[ticker.name].append(distance_value)\r\n",
        "        \r\n",
        "        return self.distance_dict\r\n",
        "\r\n",
        "    def top_K_matches_for_ticker(self, ticker:TickerHelper, K:int):\r\n",
        "        dist_values = self.distance_dict[ticker.name]\r\n",
        "        top_K_indices = np.argsort(dist_values)[:K]\r\n",
        "\r\n",
        "        stock_windows = ticker.get_windows(win_size=len(self.anchor))\r\n",
        "\r\n",
        "        distance_entries_sorted = []\r\n",
        "        for i in top_K_indices:\r\n",
        "            distance_entries_sorted.append(DistanceEntry(stock_windows[i], i, dist_values[i]))\r\n",
        "\r\n",
        "        return distance_entries_sorted\r\n",
        "\r\n",
        "    def top_K(self, K:int, order_by_first_distance_values:bool=True):\r\n",
        "        res_dict = {}\r\n",
        "        for t in self.other_tickers:\r\n",
        "            # TODO: This can run in parallel\r\n",
        "            res_dict[t.name] = self.top_K_matches_for_ticker(t, K)\r\n",
        "        # Sort the Tickers based on the first distance value\r\n",
        "        if order_by_first_distance_values:\r\n",
        "            return OrderedDict(sorted(res_dict.items(), key=lambda x: x[1][0].distance))\r\n",
        "        else:\r\n",
        "            return res_dict"
      ],
      "execution_count": 335,
      "outputs": []
    },
    {
      "cell_type": "code",
      "metadata": {
        "id": "sb_Lb1-S-cJu"
      },
      "source": [
        "stock_tickers = [\"AAPL\", \"MSFT\", \"TSLA\", \"BABA\"]"
      ],
      "execution_count": 336,
      "outputs": []
    },
    {
      "cell_type": "code",
      "metadata": {
        "id": "2xmgLuPJ-dbW"
      },
      "source": [
        "tickers_dict = {k:TickerHelper(k) for k in stock_tickers}"
      ],
      "execution_count": 337,
      "outputs": []
    },
    {
      "cell_type": "code",
      "metadata": {
        "colab": {
          "base_uri": "https://localhost:8080/"
        },
        "id": "_khHmkb1-tZB",
        "outputId": "1597f290-3bd4-45a3-8d94-5473ceba6301"
      },
      "source": [
        "{k:len(v) for k, v in tickers_dict.items()}"
      ],
      "execution_count": 338,
      "outputs": [
        {
          "output_type": "execute_result",
          "data": {
            "text/plain": [
              "{'AAPL': 10109, 'BABA': 1593, 'MSFT': 8784, 'TSLA': 2657}"
            ]
          },
          "metadata": {
            "tags": []
          },
          "execution_count": 338
        }
      ]
    },
    {
      "cell_type": "code",
      "metadata": {
        "id": "sujLAqKY-8Gs"
      },
      "source": [
        "ANCHOR_STOCK_TICKER = \"TSLA\"\r\n",
        "WINDOW_SIZE = 14\r\n",
        "\r\n",
        "anchor_ticker = tickers_dict[ANCHOR_STOCK_TICKER]\r\n",
        "anchor_series = StockWindow(anchor_ticker, len(anchor_ticker)-WINDOW_SIZE, len(anchor_ticker))"
      ],
      "execution_count": 339,
      "outputs": []
    },
    {
      "cell_type": "code",
      "metadata": {
        "id": "eeroxOiMEjW6"
      },
      "source": [
        "dist = Distance(anchor_series, tickers_dict.values())\r\n",
        "_ = dist.compute_distance()"
      ],
      "execution_count": 340,
      "outputs": []
    },
    {
      "cell_type": "code",
      "metadata": {
        "id": "mFtmGHYGJNkt"
      },
      "source": [
        "top_K_matches = dist.top_K(3, True)"
      ],
      "execution_count": 341,
      "outputs": []
    },
    {
      "cell_type": "code",
      "metadata": {
        "colab": {
          "base_uri": "https://localhost:8080/"
        },
        "id": "MKSKINiUUOCc",
        "outputId": "d53c8176-78b2-4a09-9d7f-36bc09f60b61"
      },
      "source": [
        "top_K_matches"
      ],
      "execution_count": 342,
      "outputs": [
        {
          "output_type": "execute_result",
          "data": {
            "text/plain": [
              "OrderedDict([('BABA',\n",
              "              [window_index: 2, distance: 1.0124187469482422,\n",
              "               window_index: 94, distance: 1.0766174793243408,\n",
              "               window_index: 52, distance: 1.3220407962799072]),\n",
              "             ('TSLA',\n",
              "              [window_index: 168, distance: 1.1316332817077637,\n",
              "               window_index: 101, distance: 1.3786630630493164,\n",
              "               window_index: 124, distance: 1.459905982017517]),\n",
              "             ('AAPL',\n",
              "              [window_index: 97, distance: 1.1508548259735107,\n",
              "               window_index: 30, distance: 1.2199829816818237,\n",
              "               window_index: 550, distance: 1.2739198207855225]),\n",
              "             ('MSFT',\n",
              "              [window_index: 182, distance: 1.2255370616912842,\n",
              "               window_index: 272, distance: 1.3037796020507812,\n",
              "               window_index: 162, distance: 1.3139054775238037])])"
            ]
          },
          "metadata": {
            "tags": []
          },
          "execution_count": 342
        }
      ]
    },
    {
      "cell_type": "code",
      "metadata": {
        "id": "IhbpxTJ0QQNj"
      },
      "source": [
        "# Get the top series match from the top stock match\r\n",
        "closest_stock_window = next(iter(top_K_matches.values()))[0].stock_window"
      ],
      "execution_count": 343,
      "outputs": []
    },
    {
      "cell_type": "code",
      "metadata": {
        "id": "8KkJkv8ZWTXG"
      },
      "source": [
        ""
      ],
      "execution_count": null,
      "outputs": []
    }
  ]
}