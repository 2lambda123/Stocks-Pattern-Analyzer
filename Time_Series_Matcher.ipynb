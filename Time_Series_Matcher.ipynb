{
  "nbformat": 4,
  "nbformat_minor": 0,
  "metadata": {
    "colab": {
      "name": "Time-Series-Matcher.ipynb",
      "provenance": [],
      "collapsed_sections": [],
      "authorship_tag": "ABX9TyOPiPLIupjs8GM8lm2de2OR",
      "include_colab_link": true
    },
    "kernelspec": {
      "name": "python3",
      "display_name": "Python 3"
    }
  },
  "cells": [
    {
      "cell_type": "markdown",
      "metadata": {
        "id": "view-in-github",
        "colab_type": "text"
      },
      "source": [
        "<a href=\"https://colab.research.google.com/github/gaborvecsei/Stocks-Pattern-Analyzer/blob/master/Time_Series_Matcher.ipynb\" target=\"_parent\"><img src=\"https://colab.research.google.com/assets/colab-badge.svg\" alt=\"Open In Colab\"/></a>"
      ]
    },
    {
      "cell_type": "markdown",
      "metadata": {
        "id": "mYPPnmZ6zVFn"
      },
      "source": [
        "Flow:\r\n",
        "1. Select a stock ticker\r\n",
        "2. Select data range\r\n",
        "3. Select tickers which we want to include in the similarity analysis\r\n",
        "4. Calculate similarities (selected anchor period to similar length periods in the other tickers)\r\n",
        "    - Store raw similarities and also some aggregated measure for every ticker\r\n",
        "    - Display top-N (most similar) tickers with the values\r\n",
        "5. Display top matches on different charts with past and future values applications\r\n",
        "6. Display top-N matches normalized on a single chart with past and future values\r\n",
        "\r\n",
        "\r\n",
        "Idea list:\r\n",
        "- Multiple similarity measures\r\n",
        "    - Eucledian distance\r\n",
        "    - Manhattan distance\r\n",
        "    - Day-to-day increase or decrease (binary classification)\r\n",
        "    - Selected time period is bearish or bullish\r\n",
        "    - Gain/Loss over the period\r\n",
        "    - DTW\r\n",
        "- Indicators on sell/buy\r\n",
        "    - Based on multiple stock pattern similarities, should be buy or sell\r\n",
        "    - Predict the gain if I buy today on close value and sell in 1, 7, 14, ... days\r\n",
        "    - \"64% of the stocks were bearish after this pattern\" OR \"Min/Max/Average/median gain after this pattern\"\r\n",
        "\r\n",
        "\r\n",
        "Interesting links:\r\n",
        "- https://www.intechopen.com/books/advances-in-data-mining-knowledge-discovery-and-applications/similarity-measures-and-dimensionality-reduction-techniques-for-time-series-data-mining"
      ]
    },
    {
      "cell_type": "code",
      "metadata": {
        "id": "gawpv_dJi8F0"
      },
      "source": [
        "!pip install yfinance stumpy &> /dev/null"
      ],
      "execution_count": null,
      "outputs": []
    },
    {
      "cell_type": "code",
      "metadata": {
        "id": "Wel82votifTJ"
      },
      "source": [
        "import numpy as np\r\n",
        "import pandas as pd\r\n",
        "from collections import OrderedDict\r\n",
        "import json\r\n",
        "\r\n",
        "from sklearn import metrics\r\n",
        "import yfinance\r\n",
        "import stumpy\r\n",
        "\r\n",
        "import matplotlib.pyplot as plt\r\n",
        "%matplotlib inline"
      ],
      "execution_count": null,
      "outputs": []
    },
    {
      "cell_type": "code",
      "metadata": {
        "id": "aUFkGrdKlNKm"
      },
      "source": [
        "stock_tickers = [\"AAPL\", \"MSFT\", \"TSLA\", \"BABA\"]"
      ],
      "execution_count": null,
      "outputs": []
    },
    {
      "cell_type": "markdown",
      "metadata": {
        "id": "tANdrvsGnzYx"
      },
      "source": [
        "------------------------"
      ]
    },
    {
      "cell_type": "code",
      "metadata": {
        "id": "86DHG_EnnXfh"
      },
      "source": [
        "def normalize(x):\r\n",
        "    return (x - np.min(x))/np.ptp(x)"
      ],
      "execution_count": null,
      "outputs": []
    },
    {
      "cell_type": "code",
      "metadata": {
        "id": "XW1AA5UWl62I"
      },
      "source": [
        "stock_close_values = dict()\r\n",
        "\r\n",
        "for t in stock_tickers:\r\n",
        "    close_vals = yfinance.Ticker(t).history(period=\"max\", interval=\"1d\")[\"Close\"].values\r\n",
        "    stock_close_values[t] = close_vals"
      ],
      "execution_count": null,
      "outputs": []
    },
    {
      "cell_type": "code",
      "metadata": {
        "colab": {
          "base_uri": "https://localhost:8080/"
        },
        "id": "lYiLho3Xmovq",
        "outputId": "130ef2e3-b87c-41de-815f-db8dfc68d8ba"
      },
      "source": [
        "# Number of values (days) in the data\r\n",
        "{t:x.shape[0] for t, x in stock_close_values.items()}"
      ],
      "execution_count": null,
      "outputs": [
        {
          "output_type": "execute_result",
          "data": {
            "text/plain": [
              "{'AAPL': 10110, 'BABA': 1594, 'MSFT': 8785, 'TSLA': 2658}"
            ]
          },
          "metadata": {
            "tags": []
          },
          "execution_count": 6
        }
      ]
    },
    {
      "cell_type": "code",
      "metadata": {
        "id": "5Srx9qEtqZ0I"
      },
      "source": [
        "ANCHOR_STOCK_TICKER = \"TSLA\"\r\n",
        "WIN = 14"
      ],
      "execution_count": null,
      "outputs": []
    },
    {
      "cell_type": "code",
      "metadata": {
        "id": "97pcOs0xmh8B"
      },
      "source": [
        "anchor_values = stock_close_values[ANCHOR_STOCK_TICKER]"
      ],
      "execution_count": null,
      "outputs": []
    },
    {
      "cell_type": "code",
      "metadata": {
        "id": "WwSxHIU2liy3"
      },
      "source": [
        "anchor_series_start = len(anchor_values)-WIN-28\r\n",
        "anchor_series_end = anchor_series_start + WIN\r\n",
        "anchor_series = anchor_values[anchor_series_start:anchor_series_end]\r\n",
        "anchor_series_norm = normalize(anchor_series)"
      ],
      "execution_count": null,
      "outputs": []
    },
    {
      "cell_type": "code",
      "metadata": {
        "id": "lLnOf24SlxjP"
      },
      "source": [
        "window_len = len(anchor_series)\r\n",
        "\r\n",
        "similarities_dict = dict()\r\n",
        "\r\n",
        "for t, v in stock_close_values.items():\r\n",
        "    sims = []\r\n",
        "    subseries_indexes = []\r\n",
        "\r\n",
        "    for i in range(0, len(v)-window_len, window_len):\r\n",
        "        s = normalize(v[i:i+window_len])\r\n",
        "        subseries_indexes.append((i, i+window_len))\r\n",
        "\r\n",
        "        sim = sum(abs(anchor_series_norm - s))\r\n",
        "        sims.append(sim)\r\n",
        "    \r\n",
        "    similarities_dict[t] = {\"similarities\":sims, \"indices\":subseries_indexes}"
      ],
      "execution_count": null,
      "outputs": []
    },
    {
      "cell_type": "code",
      "metadata": {
        "colab": {
          "base_uri": "https://localhost:8080/"
        },
        "id": "cFsCS0GGrAT_",
        "outputId": "e1280415-d329-4e7b-8510-b14f51348a97"
      },
      "source": [
        "for t in similarities_dict.keys():\r\n",
        "    vals = similarities_dict[t][\"similarities\"]\r\n",
        "    top_3 = np.argsort(vals)[:3]\r\n",
        "    top_3_with_scores = {a:similarities_dict[t][\"similarities\"][a] for a in top_3}\r\n",
        "\r\n",
        "    print(f\"{t} --> {top_3_with_scores}\")"
      ],
      "execution_count": null,
      "outputs": [
        {
          "output_type": "stream",
          "text": [
            "AAPL --> {602: 1.1212386736138118, 493: 1.1449465767540636, 199: 1.203714761200932}\n",
            "MSFT --> {606: 0.7108832729635453, 432: 0.9474091597312199, 515: 1.1012671538510412}\n",
            "TSLA --> {46: 1.006680385581605, 180: 1.2735717854331616, 135: 1.323598590205496}\n",
            "BABA --> {25: 1.4575971922331836, 11: 1.5559680256893964, 85: 1.6949548004301924}\n"
          ],
          "name": "stdout"
        }
      ]
    },
    {
      "cell_type": "code",
      "metadata": {
        "id": "_4JI4rtusYJX"
      },
      "source": [
        "CHOSEN_CLOSEST_STOCK = \"AAPL\"\r\n",
        "chosen_ticker_values = stock_close_values[CHOSEN_CLOSEST_STOCK]\r\n",
        "chosen_ticker_indices = similarities_dict[CHOSEN_CLOSEST_STOCK][\"indices\"]\r\n",
        "chosen_ticker_similarities = similarities_dict[CHOSEN_CLOSEST_STOCK][\"similarities\"]"
      ],
      "execution_count": null,
      "outputs": []
    },
    {
      "cell_type": "code",
      "metadata": {
        "id": "WLnLa04BtK_N"
      },
      "source": [
        "closest_series_indexes = chosen_ticker_indices[np.argmin(chosen_ticker_similarities)]"
      ],
      "execution_count": null,
      "outputs": []
    },
    {
      "cell_type": "code",
      "metadata": {
        "id": "XzsrK7APo9Rn"
      },
      "source": [
        "closest_series_start, closest_series_end = closest_series_indexes\r\n",
        "closest_series = chosen_ticker_values[closest_series_start:closest_series_end]\r\n",
        "closest_series_norm = normalize(closest_series)"
      ],
      "execution_count": null,
      "outputs": []
    },
    {
      "cell_type": "code",
      "metadata": {
        "colab": {
          "base_uri": "https://localhost:8080/",
          "height": 265
        },
        "id": "GiS5euT-pwZk",
        "outputId": "aba26b06-8098-4a5c-c45a-25d56d960e15"
      },
      "source": [
        "plt.plot(range(0, len(anchor_series_norm)), anchor_series_norm)\r\n",
        "plt.plot(range(0, len(closest_series_norm)), closest_series_norm);"
      ],
      "execution_count": null,
      "outputs": [
        {
          "output_type": "display_data",
          "data": {
            "image/png": "[encoded data removed]",
            "text/plain": [
              "<Figure size 432x288 with 1 Axes>"
            ]
          },
          "metadata": {
            "tags": [],
            "needs_background": "light"
          }
        }
      ]
    },
    {
      "cell_type": "code",
      "metadata": {
        "id": "TqJkIuzstXxy"
      },
      "source": [
        "FUTURE_WIN = 28\r\n",
        "PAST_WIN = 28"
      ],
      "execution_count": null,
      "outputs": []
    },
    {
      "cell_type": "code",
      "metadata": {
        "colab": {
          "base_uri": "https://localhost:8080/",
          "height": 281
        },
        "id": "ObOjnfP9sEXq",
        "outputId": "c57d3c52-483e-419a-8868-b4a3058507e5"
      },
      "source": [
        "fig, axs = plt.subplots(1, 2, figsize=(14, 4))\r\n",
        "\r\n",
        "indices_anchor = np.arange(anchor_series_start, anchor_series_end, 1)\r\n",
        "indices_anchor_future = np.arange(anchor_series_end-1, anchor_series_end+FUTURE_WIN, 1)\r\n",
        "anchor_future = anchor_values[anchor_series_end-1:anchor_series_end+FUTURE_WIN]\r\n",
        "indices_anchor_past = np.arange(anchor_series_start-PAST_WIN, anchor_series_start+1, 1)\r\n",
        "anchor_past = anchor_values[anchor_series_start-PAST_WIN:anchor_series_start+1]\r\n",
        "\r\n",
        "axs[0].plot(indices_anchor, anchor_series, color=\"r\")\r\n",
        "axs[0].plot(indices_anchor_future[:len(anchor_future)], anchor_future, color=\"g\")\r\n",
        "axs[0].plot(indices_anchor_past, anchor_past, color=\"g\")\r\n",
        "axs[0].set_title(\"Anchor series\")\r\n",
        "\r\n",
        "indices_closest = np.arange(closest_series_start, closest_series_end, 1)\r\n",
        "indices_closest_future = np.arange(closest_series_end-1, closest_series_end+FUTURE_WIN, 1)\r\n",
        "closest_future = chosen_ticker_values[closest_series_end-1:closest_series_end+FUTURE_WIN]\r\n",
        "indices_closest_past = np.arange(closest_series_start-PAST_WIN, closest_series_start+1, 1)\r\n",
        "closest_past = chosen_ticker_values[closest_series_start-PAST_WIN:closest_series_start+1]\r\n",
        "\r\n",
        "axs[1].plot(indices_closest, closest_series, color=\"r\")\r\n",
        "axs[1].plot(indices_closest_future, closest_future, color=\"g\")\r\n",
        "axs[1].plot(indices_closest_past, closest_past, color=\"g\")\r\n",
        "axs[1].set_title(\"Closest series\");"
      ],
      "execution_count": null,
      "outputs": [
        {
          "output_type": "display_data",
          "data": {
            "image/png": "[encoded data removed]",
            "text/plain": [
              "<Figure size 1008x288 with 2 Axes>"
            ]
          },
          "metadata": {
            "tags": [],
            "needs_background": "light"
          }
        }
      ]
    },
    {
      "cell_type": "code",
      "metadata": {
        "id": "O3ljEcoWtQfU",
        "colab": {
          "base_uri": "https://localhost:8080/",
          "height": 281
        },
        "outputId": "4ba3dd2a-c74f-434b-ea82-b9675dc3b613"
      },
      "source": [
        "fig, ax = plt.subplots(1, 1, figsize=(12, 4))\r\n",
        "ax.plot(normalize(anchor_values[anchor_series_start-PAST_WIN:anchor_series_end+FUTURE_WIN]), label=\"anchor\")\r\n",
        "ax.plot(normalize(chosen_ticker_values[closest_series_start-PAST_WIN:closest_series_end+FUTURE_WIN]), label=\"closest\")\r\n",
        "ax.axvline(x=PAST_WIN, color=\"r\", linestyle=\"--\")\r\n",
        "ax.axvline(x=PAST_WIN+WIN, color=\"r\", linestyle=\"--\")\r\n",
        "ax.set_title(\"Normalized series with 'past' and 'future'\")\r\n",
        "ax.legend();"
      ],
      "execution_count": null,
      "outputs": [
        {
          "output_type": "display_data",
          "data": {
            "image/png": "[encoded data removed]",
            "text/plain": [
              "<Figure size 864x288 with 1 Axes>"
            ]
          },
          "metadata": {
            "tags": [],
            "needs_background": "light"
          }
        }
      ]
    },
    {
      "cell_type": "markdown",
      "metadata": {
        "id": "Ee4cmWbPsjlR"
      },
      "source": [
        "-------------------------"
      ]
    },
    {
      "cell_type": "code",
      "metadata": {
        "id": "xTUcb6IX8tWS"
      },
      "source": [
        "class TickerHelper:\r\n",
        "    def __init__(self, ticker:str):\r\n",
        "        self.name = ticker\r\n",
        "\r\n",
        "        self._data = yfinance.Ticker(self.name).history(period=\"max\", interval=\"1d\")\r\n",
        "\r\n",
        "        self.dates = self._data.index\r\n",
        "        self.close_vals = self._data[\"Close\"].values.astype(np.float32)\r\n",
        "\r\n",
        "    def get_windows(self, win_size:int):\r\n",
        "        stock_windows = []\r\n",
        "        for i in range(0, len(self) - win_size, win_size):\r\n",
        "            stock_windows.append(StockWindow(self, i, i+win_size))\r\n",
        "        return stock_windows\r\n",
        "\r\n",
        "    def __len__(self):\r\n",
        "        return len(self.close_vals)"
      ],
      "execution_count": null,
      "outputs": []
    },
    {
      "cell_type": "code",
      "metadata": {
        "id": "TeIZHQp79h4R"
      },
      "source": [
        "class StockWindow:\r\n",
        "    def __init__(self, ticker:TickerHelper, start_index:int=None, end_index:int=None):\r\n",
        "        self.ticker = ticker\r\n",
        "        self.start_index = start_index\r\n",
        "        self.end_index = end_index\r\n",
        "\r\n",
        "    @property\r\n",
        "    def values(self):\r\n",
        "        return self.ticker.close_vals[self.start_index:self.end_index]\r\n",
        "\r\n",
        "    def with_past_and_future(self, past_win_size:int, future_win_size:int):\r\n",
        "        return StockWindow(self.ticker, self.start_index-past_win_size, self.end_index+future_win_size)\r\n",
        "\r\n",
        "    def future(self, win_size:int):\r\n",
        "        # TODO: what if there is no future?\r\n",
        "        return StockWindow(self.ticker, self.end_index, self.end_index+win_size)\r\n",
        "\r\n",
        "    def past(self, win_size:int):\r\n",
        "        # TODO: what if there is no past?\r\n",
        "        return StockWindow(self.ticker, self.start_index-win_size, self.start_index)\r\n",
        "\r\n",
        "    @property\r\n",
        "    def norm_values(self):\r\n",
        "        return normalize(self.values)\r\n",
        "\r\n",
        "    @property\r\n",
        "    def dates(self):\r\n",
        "        return self.ticker.dates[self.start_index:self.end_index]\r\n",
        "\r\n",
        "    def __len__(self):\r\n",
        "        return self.end_index - self.start_index"
      ],
      "execution_count": null,
      "outputs": []
    },
    {
      "cell_type": "code",
      "metadata": {
        "id": "_jEipsiIQ_lR"
      },
      "source": [
        "class DistanceEntry:\r\n",
        "    def __init__(self, stock_window:StockWindow, window_index:int, distance:float):\r\n",
        "        self.window_index = window_index\r\n",
        "        self.distance = distance\r\n",
        "        self.stock_window = stock_window\r\n",
        "\r\n",
        "    def __repr__(self):\r\n",
        "        return f\"window_index: {self.window_index}, distance: {self.distance}\""
      ],
      "execution_count": null,
      "outputs": []
    },
    {
      "cell_type": "code",
      "metadata": {
        "id": "bm5tGHvpCXaY"
      },
      "source": [
        "class Distance:\r\n",
        "    def __init__(self, anchor:StockWindow, other_tickers:list):\r\n",
        "        self.anchor = anchor\r\n",
        "        self.other_tickers = other_tickers\r\n",
        "\r\n",
        "        self.distance_dict = dict()\r\n",
        "\r\n",
        "    @staticmethod\r\n",
        "    def similarity_metric(anchor_vals, other_vals):\r\n",
        "        assert len(anchor_vals) == len(other_vals), \"Length of series should be the same\"\r\n",
        "        return np.sum(np.abs(anchor_vals - other_vals))\r\n",
        "\r\n",
        "    def compute_distance(self):\r\n",
        "        self.distance_dict = {}\r\n",
        "\r\n",
        "        for ticker in self.other_tickers:\r\n",
        "            self.distance_dict[ticker.name] = []\r\n",
        "\r\n",
        "            for window in ticker.get_windows(win_size=len(self.anchor)):\r\n",
        "                distance_value = self.similarity_metric(self.anchor.norm_values, window.norm_values)\r\n",
        "                self.distance_dict[ticker.name].append(distance_value)\r\n",
        "        \r\n",
        "        return self.distance_dict\r\n",
        "\r\n",
        "    def top_K_matches_for_ticker(self, ticker:TickerHelper, K:int):\r\n",
        "        dist_values = self.distance_dict[ticker.name]\r\n",
        "        top_K_indices = np.argsort(dist_values)[:K]\r\n",
        "\r\n",
        "        stock_windows = ticker.get_windows(win_size=len(self.anchor))\r\n",
        "\r\n",
        "        distance_entries_sorted = []\r\n",
        "        for i in top_K_indices:\r\n",
        "            distance_entries_sorted.append(DistanceEntry(stock_windows[i], i, dist_values[i]))\r\n",
        "\r\n",
        "        return distance_entries_sorted\r\n",
        "\r\n",
        "    def top_K(self, K:int, order_by_first_distance_values:bool=True):\r\n",
        "        res_dict = {}\r\n",
        "        for t in self.other_tickers:\r\n",
        "            # TODO: This can run in parallel\r\n",
        "            res_dict[t.name] = self.top_K_matches_for_ticker(t, K)\r\n",
        "        # Sort the Tickers based on the first distance value\r\n",
        "        if order_by_first_distance_values:\r\n",
        "            return OrderedDict(sorted(res_dict.items(), key=lambda x: x[1][0].distance))\r\n",
        "        else:\r\n",
        "            return res_dict"
      ],
      "execution_count": null,
      "outputs": []
    },
    {
      "cell_type": "code",
      "metadata": {
        "id": "sb_Lb1-S-cJu"
      },
      "source": [
        "stock_tickers = [\"AAPL\", \"MSFT\", \"TSLA\", \"BABA\"]"
      ],
      "execution_count": null,
      "outputs": []
    },
    {
      "cell_type": "code",
      "metadata": {
        "id": "2xmgLuPJ-dbW"
      },
      "source": [
        "tickers_dict = {k:TickerHelper(k) for k in stock_tickers}"
      ],
      "execution_count": null,
      "outputs": []
    },
    {
      "cell_type": "code",
      "metadata": {
        "colab": {
          "base_uri": "https://localhost:8080/"
        },
        "id": "_khHmkb1-tZB",
        "outputId": "cb63821a-9749-4ae3-e68a-0b293a32daf0"
      },
      "source": [
        "{k:len(v) for k, v in tickers_dict.items()}"
      ],
      "execution_count": null,
      "outputs": [
        {
          "output_type": "execute_result",
          "data": {
            "text/plain": [
              "{'AAPL': 10110, 'BABA': 1594, 'MSFT': 8785, 'TSLA': 2658}"
            ]
          },
          "metadata": {
            "tags": []
          },
          "execution_count": 25
        }
      ]
    },
    {
      "cell_type": "code",
      "metadata": {
        "id": "sujLAqKY-8Gs"
      },
      "source": [
        "ANCHOR_STOCK_TICKER = \"AAPL\"\r\n",
        "WINDOW_SIZE = 14\r\n",
        "OFFSET = 100\r\n",
        "\r\n",
        "anchor_ticker = tickers_dict[ANCHOR_STOCK_TICKER]\r\n",
        "anchor_series = StockWindow(anchor_ticker, len(anchor_ticker)-WINDOW_SIZE-OFFSET, len(anchor_ticker)-OFFSET)"
      ],
      "execution_count": null,
      "outputs": []
    },
    {
      "cell_type": "code",
      "metadata": {
        "id": "eeroxOiMEjW6"
      },
      "source": [
        "dist = Distance(anchor_series, tickers_dict.values())\r\n",
        "_ = dist.compute_distance()"
      ],
      "execution_count": null,
      "outputs": []
    },
    {
      "cell_type": "code",
      "metadata": {
        "id": "mFtmGHYGJNkt"
      },
      "source": [
        "top_K_matches = dist.top_K(2, True)"
      ],
      "execution_count": null,
      "outputs": []
    },
    {
      "cell_type": "code",
      "metadata": {
        "colab": {
          "base_uri": "https://localhost:8080/"
        },
        "id": "MKSKINiUUOCc",
        "outputId": "f8577b5b-f8c0-4f37-80da-c10bc4aebdc7"
      },
      "source": [
        "top_K_matches"
      ],
      "execution_count": null,
      "outputs": [
        {
          "output_type": "execute_result",
          "data": {
            "text/plain": [
              "OrderedDict([('AAPL',\n",
              "              [window_index: 714, distance: 0.0,\n",
              "               window_index: 591, distance: 1.0605313777923584]),\n",
              "             ('MSFT',\n",
              "              [window_index: 159, distance: 1.1749839782714844,\n",
              "               window_index: 11, distance: 1.2192715406417847]),\n",
              "             ('BABA',\n",
              "              [window_index: 1, distance: 1.2863099575042725,\n",
              "               window_index: 101, distance: 1.681189775466919]),\n",
              "             ('TSLA',\n",
              "              [window_index: 178, distance: 1.3216958045959473,\n",
              "               window_index: 73, distance: 1.329267144203186])])"
            ]
          },
          "metadata": {
            "tags": []
          },
          "execution_count": 29
        }
      ]
    },
    {
      "cell_type": "code",
      "metadata": {
        "id": "IhbpxTJ0QQNj"
      },
      "source": [
        "# Get the top series match from the top stock match\r\n",
        "closest_stock_window = next(iter(top_K_matches.values()))[0].stock_window"
      ],
      "execution_count": null,
      "outputs": []
    },
    {
      "cell_type": "code",
      "metadata": {
        "id": "-Qz1Ru5HMQYM"
      },
      "source": [
        "def visualize_similarity(anchor:StockWindow, top_K_matches:OrderedDict, past_window:int=0, future_window:int=0, ax=None):\n",
        "    if ax is None:\n",
        "        _, ax = plt.subplots(1, 1, figsize=(14, 4))\n",
        "\n",
        "    ax.set_ylabel(\"Norm values\")\n",
        "    ax.set_xlabel(\"Date (of the anchor stock)\")\n",
        "\n",
        "    for ticker_name, top_matched_series in top_K_matches.items():\n",
        "        # Get the top match for each ticker\n",
        "        for match in top_matched_series:\n",
        "            stock_window_extended = match.stock_window.with_past_and_future(past_window, future_window)\n",
        "            try:\n",
        "                ax.plot(stock_window_extended.norm_values, color=\"blue\", linestyle=\"--\")\n",
        "            except:\n",
        "                print(f\"Could not plot {ticker_name} with window index of {match.window_index}\")\n",
        "\n",
        "    \n",
        "    anchor_extended = anchor.with_past_and_future(past_window, future_window)\n",
        "    ax.plot(anchor_extended.norm_values, label=\"anchor\", color=\"red\")\n",
        "\n",
        "    ax.axvline(x=past_window, color=\"r\", linestyle=\"--\")\n",
        "    ax.axvline(x=past_window+len(anchor), color=\"r\", linestyle=\"--\")\n",
        "    ax.set_title(\"Normalized series with 'past' and 'future'\")\n",
        "    ax.legend();"
      ],
      "execution_count": null,
      "outputs": []
    },
    {
      "cell_type": "code",
      "metadata": {
        "colab": {
          "base_uri": "https://localhost:8080/",
          "height": 312
        },
        "id": "j3G9GakCQIK6",
        "outputId": "fa596a23-666d-40fe-bbb1-f28c136dec42"
      },
      "source": [
        "visualize_similarity(anchor_series, top_K_matches, 50, 50)"
      ],
      "execution_count": null,
      "outputs": [
        {
          "output_type": "stream",
          "text": [
            "Could not plot BABA with window index of 1\n"
          ],
          "name": "stdout"
        },
        {
          "output_type": "display_data",
          "data": {
            "image/png": "[encoded data removed]",
            "text/plain": [
              "<Figure size 1008x288 with 1 Axes>"
            ]
          },
          "metadata": {
            "tags": [],
            "needs_background": "light"
          }
        }
      ]
    },
    {
      "cell_type": "code",
      "metadata": {
        "id": "3It5prVQU79A"
      },
      "source": [
        "# TODO: we should be able to plot by tickers, and by the best matches in order with modifying alpha"
      ],
      "execution_count": null,
      "outputs": []
    },
    {
      "cell_type": "markdown",
      "metadata": {
        "id": "Ld-bwr2_W33N"
      },
      "source": [
        "-----------------------------------"
      ]
    },
    {
      "cell_type": "code",
      "metadata": {
        "colab": {
          "base_uri": "https://localhost:8080/"
        },
        "id": "sTML_hv6lviU",
        "outputId": "916d26dd-9c70-447d-c4c9-38a036888a19"
      },
      "source": [
        "df = yfinance.download(stock_tickers, period=\"max\", interval=\"1d\")"
      ],
      "execution_count": 357,
      "outputs": [
        {
          "output_type": "stream",
          "text": [
            "[*********************100%***********************]  4 of 4 completed\n"
          ],
          "name": "stdout"
        }
      ]
    },
    {
      "cell_type": "code",
      "metadata": {
        "id": "ZpHmedpol4Dj"
      },
      "source": [
        "df = df[\"Close\"][::-1]"
      ],
      "execution_count": 358,
      "outputs": []
    },
    {
      "cell_type": "code",
      "metadata": {
        "id": "TPPZ-LAoK6q7"
      },
      "source": [
        "def comp_dst(s, anchor_vals):\r\n",
        "    dist = sum(abs(normalize(anchor_vals) - normalize(s.values)))\r\n",
        "    return dist"
      ],
      "execution_count": 359,
      "outputs": []
    },
    {
      "cell_type": "code",
      "metadata": {
        "id": "FyPWZuCNm2GX"
      },
      "source": [
        "win_size = 3\r\n",
        "anchor_vals = df[:10][\"AAPL\"].values[:win_size].reshape(-1, 1)"
      ],
      "execution_count": 360,
      "outputs": []
    },
    {
      "cell_type": "code",
      "metadata": {
        "id": "zbe6UpF2bD8Y"
      },
      "source": [
        "def normalize(x, axis=0):\r\n",
        "    # If axis=0 then columns are normalized, if it is 1 then rows\r\n",
        "    return (x - np.min(x, axis=axis)) / np.ptp(x, axis=axis)"
      ],
      "execution_count": 361,
      "outputs": []
    },
    {
      "cell_type": "code",
      "metadata": {
        "colab": {
          "base_uri": "https://localhost:8080/"
        },
        "id": "5kTSrOBLW8fp",
        "outputId": "243aae0e-7d40-4299-9ea0-abd8a4af07ba"
      },
      "source": [
        "distance_values = []\r\n",
        "start_dates = []\r\n",
        "end_dates = []\r\n",
        "\r\n",
        "row_index = 0\r\n",
        "\r\n",
        "for i in range(0, len(df)-win_size, 1):\r\n",
        "    sub_df = df[i:i+win_size]\r\n",
        "    dates = sub_df.index.values\r\n",
        "\r\n",
        "    # Distance calculation per column (ticker)\r\n",
        "    dist_vals = np.abs(np.sum(normalize(sub_df.values) - normalize(anchor_vals), axis=0))\r\n",
        "    distance_values.append(dist_vals)\r\n",
        "\r\n",
        "    start_dates.append(dates[0])\r\n",
        "    end_dates.append(dates[-1])\r\n",
        "\r\n",
        "    # distances_per_column = list(dist_vals)\r\n",
        "    # TODO: There must be a better way of doing this\r\n",
        "    # dist_res_df.loc[row_index] = distances_per_column + [dates[0], dates[1]]\r\n",
        "\r\n",
        "    row_index += 1\r\n",
        "\r\n",
        "dist_res_df = pd.DataFrame(distance_values, columns=df.columns)\r\n",
        "dist_res_df[\"start_date\"] = start_dates\r\n",
        "dist_res_df[\"end_date\"] = end_dates"
      ],
      "execution_count": 362,
      "outputs": [
        {
          "output_type": "stream",
          "text": [
            "/usr/local/lib/python3.6/dist-packages/ipykernel_launcher.py:3: RuntimeWarning: invalid value encountered in true_divide\n",
            "  This is separate from the ipykernel package so we can avoid doing imports until\n"
          ],
          "name": "stderr"
        }
      ]
    },
    {
      "cell_type": "code",
      "metadata": {
        "colab": {
          "base_uri": "https://localhost:8080/",
          "height": 402
        },
        "id": "vuLgf990XZxd",
        "outputId": "494d4d72-d145-489d-ae64-09ba66f45c70"
      },
      "source": [
        "dist_res_df"
      ],
      "execution_count": 363,
      "outputs": [
        {
          "output_type": "execute_result",
          "data": {
            "text/html": [
              "<div>\n",
              "<style scoped>\n",
              "    .dataframe tbody tr th:only-of-type {\n",
              "        vertical-align: middle;\n",
              "    }\n",
              "\n",
              "    .dataframe tbody tr th {\n",
              "        vertical-align: top;\n",
              "    }\n",
              "\n",
              "    .dataframe thead th {\n",
              "        text-align: right;\n",
              "    }\n",
              "</style>\n",
              "<table border=\"1\" class=\"dataframe\">\n",
              "  <thead>\n",
              "    <tr style=\"text-align: right;\">\n",
              "      <th></th>\n",
              "      <th>AAPL</th>\n",
              "      <th>BABA</th>\n",
              "      <th>MSFT</th>\n",
              "      <th>TSLA</th>\n",
              "      <th>start_date</th>\n",
              "      <th>end_date</th>\n",
              "    </tr>\n",
              "  </thead>\n",
              "  <tbody>\n",
              "    <tr>\n",
              "      <th>0</th>\n",
              "      <td>0.000000</td>\n",
              "      <td>0.334594</td>\n",
              "      <td>0.292203</td>\n",
              "      <td>0.586283</td>\n",
              "      <td>2021-01-19</td>\n",
              "      <td>2021-01-14</td>\n",
              "    </tr>\n",
              "    <tr>\n",
              "      <th>1</th>\n",
              "      <td>0.082170</td>\n",
              "      <td>0.551344</td>\n",
              "      <td>0.289557</td>\n",
              "      <td>0.277073</td>\n",
              "      <td>2021-01-15</td>\n",
              "      <td>2021-01-13</td>\n",
              "    </tr>\n",
              "    <tr>\n",
              "      <th>2</th>\n",
              "      <td>0.337199</td>\n",
              "      <td>0.168282</td>\n",
              "      <td>0.185468</td>\n",
              "      <td>0.082009</td>\n",
              "      <td>2021-01-14</td>\n",
              "      <td>2021-01-12</td>\n",
              "    </tr>\n",
              "    <tr>\n",
              "      <th>3</th>\n",
              "      <td>0.303710</td>\n",
              "      <td>0.207358</td>\n",
              "      <td>0.160949</td>\n",
              "      <td>0.495177</td>\n",
              "      <td>2021-01-13</td>\n",
              "      <td>2021-01-11</td>\n",
              "    </tr>\n",
              "    <tr>\n",
              "      <th>4</th>\n",
              "      <td>0.334449</td>\n",
              "      <td>0.222693</td>\n",
              "      <td>0.156014</td>\n",
              "      <td>0.165886</td>\n",
              "      <td>2021-01-12</td>\n",
              "      <td>2021-01-08</td>\n",
              "    </tr>\n",
              "    <tr>\n",
              "      <th>...</th>\n",
              "      <td>...</td>\n",
              "      <td>...</td>\n",
              "      <td>...</td>\n",
              "      <td>...</td>\n",
              "      <td>...</td>\n",
              "      <td>...</td>\n",
              "    </tr>\n",
              "    <tr>\n",
              "      <th>10102</th>\n",
              "      <td>0.133979</td>\n",
              "      <td>NaN</td>\n",
              "      <td>NaN</td>\n",
              "      <td>NaN</td>\n",
              "      <td>1980-12-23</td>\n",
              "      <td>1980-12-19</td>\n",
              "    </tr>\n",
              "    <tr>\n",
              "      <th>10103</th>\n",
              "      <td>0.151835</td>\n",
              "      <td>NaN</td>\n",
              "      <td>NaN</td>\n",
              "      <td>NaN</td>\n",
              "      <td>1980-12-22</td>\n",
              "      <td>1980-12-18</td>\n",
              "    </tr>\n",
              "    <tr>\n",
              "      <th>10104</th>\n",
              "      <td>0.074041</td>\n",
              "      <td>NaN</td>\n",
              "      <td>NaN</td>\n",
              "      <td>NaN</td>\n",
              "      <td>1980-12-19</td>\n",
              "      <td>1980-12-17</td>\n",
              "    </tr>\n",
              "    <tr>\n",
              "      <th>10105</th>\n",
              "      <td>0.064714</td>\n",
              "      <td>NaN</td>\n",
              "      <td>NaN</td>\n",
              "      <td>NaN</td>\n",
              "      <td>1980-12-18</td>\n",
              "      <td>1980-12-16</td>\n",
              "    </tr>\n",
              "    <tr>\n",
              "      <th>10106</th>\n",
              "      <td>0.077331</td>\n",
              "      <td>NaN</td>\n",
              "      <td>NaN</td>\n",
              "      <td>NaN</td>\n",
              "      <td>1980-12-17</td>\n",
              "      <td>1980-12-15</td>\n",
              "    </tr>\n",
              "  </tbody>\n",
              "</table>\n",
              "<p>10107 rows × 6 columns</p>\n",
              "</div>"
            ],
            "text/plain": [
              "           AAPL      BABA      MSFT      TSLA start_date   end_date\n",
              "0      0.000000  0.334594  0.292203  0.586283 2021-01-19 2021-01-14\n",
              "1      0.082170  0.551344  0.289557  0.277073 2021-01-15 2021-01-13\n",
              "2      0.337199  0.168282  0.185468  0.082009 2021-01-14 2021-01-12\n",
              "3      0.303710  0.207358  0.160949  0.495177 2021-01-13 2021-01-11\n",
              "4      0.334449  0.222693  0.156014  0.165886 2021-01-12 2021-01-08\n",
              "...         ...       ...       ...       ...        ...        ...\n",
              "10102  0.133979       NaN       NaN       NaN 1980-12-23 1980-12-19\n",
              "10103  0.151835       NaN       NaN       NaN 1980-12-22 1980-12-18\n",
              "10104  0.074041       NaN       NaN       NaN 1980-12-19 1980-12-17\n",
              "10105  0.064714       NaN       NaN       NaN 1980-12-18 1980-12-16\n",
              "10106  0.077331       NaN       NaN       NaN 1980-12-17 1980-12-15\n",
              "\n",
              "[10107 rows x 6 columns]"
            ]
          },
          "metadata": {
            "tags": []
          },
          "execution_count": 363
        }
      ]
    },
    {
      "cell_type": "code",
      "metadata": {
        "colab": {
          "base_uri": "https://localhost:8080/",
          "height": 402
        },
        "id": "4c7Y2LW_f9XM",
        "outputId": "b2b52775-de8b-4979-cbca-b100cd48895e"
      },
      "source": [
        "dist_res_df.sort_values(\"MSFT\")"
      ],
      "execution_count": 364,
      "outputs": [
        {
          "output_type": "execute_result",
          "data": {
            "text/html": [
              "<div>\n",
              "<style scoped>\n",
              "    .dataframe tbody tr th:only-of-type {\n",
              "        vertical-align: middle;\n",
              "    }\n",
              "\n",
              "    .dataframe tbody tr th {\n",
              "        vertical-align: top;\n",
              "    }\n",
              "\n",
              "    .dataframe thead th {\n",
              "        text-align: right;\n",
              "    }\n",
              "</style>\n",
              "<table border=\"1\" class=\"dataframe\">\n",
              "  <thead>\n",
              "    <tr style=\"text-align: right;\">\n",
              "      <th></th>\n",
              "      <th>AAPL</th>\n",
              "      <th>BABA</th>\n",
              "      <th>MSFT</th>\n",
              "      <th>TSLA</th>\n",
              "      <th>start_date</th>\n",
              "      <th>end_date</th>\n",
              "    </tr>\n",
              "  </thead>\n",
              "  <tbody>\n",
              "    <tr>\n",
              "      <th>490</th>\n",
              "      <td>0.591983</td>\n",
              "      <td>0.546514</td>\n",
              "      <td>0.000087</td>\n",
              "      <td>0.311760</td>\n",
              "      <td>2019-02-07</td>\n",
              "      <td>2019-02-05</td>\n",
              "    </tr>\n",
              "    <tr>\n",
              "      <th>2026</th>\n",
              "      <td>0.147580</td>\n",
              "      <td>NaN</td>\n",
              "      <td>0.000413</td>\n",
              "      <td>0.333244</td>\n",
              "      <td>2012-12-31</td>\n",
              "      <td>2012-12-27</td>\n",
              "    </tr>\n",
              "    <tr>\n",
              "      <th>5552</th>\n",
              "      <td>0.228590</td>\n",
              "      <td>NaN</td>\n",
              "      <td>0.000413</td>\n",
              "      <td>NaN</td>\n",
              "      <td>1998-12-23</td>\n",
              "      <td>1998-12-21</td>\n",
              "    </tr>\n",
              "    <tr>\n",
              "      <th>979</th>\n",
              "      <td>0.428313</td>\n",
              "      <td>0.318409</td>\n",
              "      <td>0.000798</td>\n",
              "      <td>0.040712</td>\n",
              "      <td>2017-02-28</td>\n",
              "      <td>2017-02-24</td>\n",
              "    </tr>\n",
              "    <tr>\n",
              "      <th>2569</th>\n",
              "      <td>0.007970</td>\n",
              "      <td>NaN</td>\n",
              "      <td>0.000941</td>\n",
              "      <td>0.118644</td>\n",
              "      <td>2010-11-02</td>\n",
              "      <td>2010-10-29</td>\n",
              "    </tr>\n",
              "    <tr>\n",
              "      <th>...</th>\n",
              "      <td>...</td>\n",
              "      <td>...</td>\n",
              "      <td>...</td>\n",
              "      <td>...</td>\n",
              "      <td>...</td>\n",
              "      <td>...</td>\n",
              "    </tr>\n",
              "    <tr>\n",
              "      <th>10102</th>\n",
              "      <td>0.133979</td>\n",
              "      <td>NaN</td>\n",
              "      <td>NaN</td>\n",
              "      <td>NaN</td>\n",
              "      <td>1980-12-23</td>\n",
              "      <td>1980-12-19</td>\n",
              "    </tr>\n",
              "    <tr>\n",
              "      <th>10103</th>\n",
              "      <td>0.151835</td>\n",
              "      <td>NaN</td>\n",
              "      <td>NaN</td>\n",
              "      <td>NaN</td>\n",
              "      <td>1980-12-22</td>\n",
              "      <td>1980-12-18</td>\n",
              "    </tr>\n",
              "    <tr>\n",
              "      <th>10104</th>\n",
              "      <td>0.074041</td>\n",
              "      <td>NaN</td>\n",
              "      <td>NaN</td>\n",
              "      <td>NaN</td>\n",
              "      <td>1980-12-19</td>\n",
              "      <td>1980-12-17</td>\n",
              "    </tr>\n",
              "    <tr>\n",
              "      <th>10105</th>\n",
              "      <td>0.064714</td>\n",
              "      <td>NaN</td>\n",
              "      <td>NaN</td>\n",
              "      <td>NaN</td>\n",
              "      <td>1980-12-18</td>\n",
              "      <td>1980-12-16</td>\n",
              "    </tr>\n",
              "    <tr>\n",
              "      <th>10106</th>\n",
              "      <td>0.077331</td>\n",
              "      <td>NaN</td>\n",
              "      <td>NaN</td>\n",
              "      <td>NaN</td>\n",
              "      <td>1980-12-17</td>\n",
              "      <td>1980-12-15</td>\n",
              "    </tr>\n",
              "  </tbody>\n",
              "</table>\n",
              "<p>10107 rows × 6 columns</p>\n",
              "</div>"
            ],
            "text/plain": [
              "           AAPL      BABA      MSFT      TSLA start_date   end_date\n",
              "490    0.591983  0.546514  0.000087  0.311760 2019-02-07 2019-02-05\n",
              "2026   0.147580       NaN  0.000413  0.333244 2012-12-31 2012-12-27\n",
              "5552   0.228590       NaN  0.000413       NaN 1998-12-23 1998-12-21\n",
              "979    0.428313  0.318409  0.000798  0.040712 2017-02-28 2017-02-24\n",
              "2569   0.007970       NaN  0.000941  0.118644 2010-11-02 2010-10-29\n",
              "...         ...       ...       ...       ...        ...        ...\n",
              "10102  0.133979       NaN       NaN       NaN 1980-12-23 1980-12-19\n",
              "10103  0.151835       NaN       NaN       NaN 1980-12-22 1980-12-18\n",
              "10104  0.074041       NaN       NaN       NaN 1980-12-19 1980-12-17\n",
              "10105  0.064714       NaN       NaN       NaN 1980-12-18 1980-12-16\n",
              "10106  0.077331       NaN       NaN       NaN 1980-12-17 1980-12-15\n",
              "\n",
              "[10107 rows x 6 columns]"
            ]
          },
          "metadata": {
            "tags": []
          },
          "execution_count": 364
        }
      ]
    }
  ]
}